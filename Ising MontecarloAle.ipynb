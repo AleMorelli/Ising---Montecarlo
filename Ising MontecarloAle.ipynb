{
 "cells": [
  {
   "cell_type": "code",
   "execution_count": 16,
   "id": "novel-valve",
   "metadata": {},
   "outputs": [],
   "source": [
    "#Importar librerías\n",
    "import numpy\n",
    "from collections import defaultdict\n",
    "from matplotlib import pyplot\n",
    "import itertools\n",
    "%matplotlib inline"
   ]
  },
  {
   "cell_type": "code",
   "execution_count": 17,
   "id": "developed-bridge",
   "metadata": {},
   "outputs": [],
   "source": [
    "#Definición de constantes(lenght=longitud del sistema,J=constante de intercambio,kB=Constante de Boltzmann)\n",
    "length = 10\n",
    "J = 1.0\n",
    "kB = 1.0"
   ]
  },
  {
   "cell_type": "code",
   "execution_count": 18,
   "id": "removed-supervisor",
   "metadata": {},
   "outputs": [],
   "source": [
    "#Creación de los arreglos(sites=almacenamiento de las parejas i,j, spins=diccionario en el que las keys son las parejas\n",
    "#y los values son los valores de spin, nbhs=defaultdict(lista donde por defecto los values por defecto son listas vacías)\n",
    "#cada key es una pareja i,j y cada value es una lista de tuplas, donde cada una corresponde a un vecino)\n",
    "sites = list()\n",
    "spins = dict()\n",
    "nbhs = defaultdict(list)"
   ]
  },
  {
   "cell_type": "code",
   "execution_count": 19,
   "id": "supported-asian",
   "metadata": {},
   "outputs": [],
   "source": [
    "#Creación de la muestra (red cuadrada de spines)\n",
    "for x, y in itertools.product(range(length), range(length)):\n",
    "    sites.append((x,y))"
   ]
  },
  {
   "cell_type": "code",
   "execution_count": 20,
   "id": "perceived-roulette",
   "metadata": {},
   "outputs": [
    {
     "name": "stdout",
     "output_type": "stream",
     "text": [
      "[(0, 0), (0, 1), (0, 2), (0, 3), (0, 4), (0, 5), (0, 6), (0, 7), (0, 8), (0, 9), (1, 0), (1, 1), (1, 2), (1, 3), (1, 4), (1, 5), (1, 6), (1, 7), (1, 8), (1, 9), (2, 0), (2, 1), (2, 2), (2, 3), (2, 4), (2, 5), (2, 6), (2, 7), (2, 8), (2, 9), (3, 0), (3, 1), (3, 2), (3, 3), (3, 4), (3, 5), (3, 6), (3, 7), (3, 8), (3, 9), (4, 0), (4, 1), (4, 2), (4, 3), (4, 4), (4, 5), (4, 6), (4, 7), (4, 8), (4, 9), (5, 0), (5, 1), (5, 2), (5, 3), (5, 4), (5, 5), (5, 6), (5, 7), (5, 8), (5, 9), (6, 0), (6, 1), (6, 2), (6, 3), (6, 4), (6, 5), (6, 6), (6, 7), (6, 8), (6, 9), (7, 0), (7, 1), (7, 2), (7, 3), (7, 4), (7, 5), (7, 6), (7, 7), (7, 8), (7, 9), (8, 0), (8, 1), (8, 2), (8, 3), (8, 4), (8, 5), (8, 6), (8, 7), (8, 8), (8, 9), (9, 0), (9, 1), (9, 2), (9, 3), (9, 4), (9, 5), (9, 6), (9, 7), (9, 8), (9, 9)]\n"
     ]
    }
   ],
   "source": [
    "#Visualizar sites\n",
    "print(sites)"
   ]
  },
  {
   "cell_type": "code",
   "execution_count": 21,
   "id": "traditional-market",
   "metadata": {},
   "outputs": [],
   "source": [
    "#Creación del estado aleatorio(lugar donde se comienzan a estudiar los vecinos)\n",
    "def random_configuration():\n",
    "    for spin in sites:\n",
    "        spins[spin] = numpy.random.choice([-1, 1])"
   ]
  },
  {
   "cell_type": "code",
   "execution_count": 22,
   "id": "hawaiian-nursing",
   "metadata": {},
   "outputs": [
    {
     "name": "stdout",
     "output_type": "stream",
     "text": [
      "{(0, 0): -1, (0, 1): 1, (0, 2): 1, (0, 3): -1, (0, 4): 1, (0, 5): -1, (0, 6): 1, (0, 7): -1, (0, 8): 1, (0, 9): 1, (1, 0): -1, (1, 1): 1, (1, 2): -1, (1, 3): -1, (1, 4): -1, (1, 5): -1, (1, 6): -1, (1, 7): 1, (1, 8): 1, (1, 9): -1, (2, 0): 1, (2, 1): 1, (2, 2): 1, (2, 3): 1, (2, 4): -1, (2, 5): 1, (2, 6): 1, (2, 7): -1, (2, 8): 1, (2, 9): -1, (3, 0): 1, (3, 1): -1, (3, 2): 1, (3, 3): 1, (3, 4): 1, (3, 5): 1, (3, 6): -1, (3, 7): 1, (3, 8): 1, (3, 9): -1, (4, 0): 1, (4, 1): 1, (4, 2): -1, (4, 3): 1, (4, 4): -1, (4, 5): 1, (4, 6): -1, (4, 7): -1, (4, 8): -1, (4, 9): -1, (5, 0): -1, (5, 1): -1, (5, 2): -1, (5, 3): -1, (5, 4): 1, (5, 5): -1, (5, 6): -1, (5, 7): 1, (5, 8): -1, (5, 9): 1, (6, 0): -1, (6, 1): -1, (6, 2): -1, (6, 3): -1, (6, 4): 1, (6, 5): 1, (6, 6): -1, (6, 7): -1, (6, 8): -1, (6, 9): 1, (7, 0): -1, (7, 1): 1, (7, 2): -1, (7, 3): -1, (7, 4): -1, (7, 5): 1, (7, 6): 1, (7, 7): 1, (7, 8): 1, (7, 9): -1, (8, 0): -1, (8, 1): 1, (8, 2): -1, (8, 3): -1, (8, 4): -1, (8, 5): 1, (8, 6): 1, (8, 7): -1, (8, 8): -1, (8, 9): -1, (9, 0): -1, (9, 1): -1, (9, 2): -1, (9, 3): 1, (9, 4): 1, (9, 5): 1, (9, 6): -1, (9, 7): -1, (9, 8): 1, (9, 9): -1}\n"
     ]
    }
   ],
   "source": [
    "#Configurar y visualizar spines\n",
    "random_configuration()\n",
    "print(spins)"
   ]
  },
  {
   "cell_type": "code",
   "execution_count": 23,
   "id": "external-savage",
   "metadata": {},
   "outputs": [
    {
     "data": {
      "image/png": "[encoded data removed]",
      "text/plain": [
       "<Figure size 432x288 with 1 Axes>"
      ]
     },
     "metadata": {
      "needs_background": "light"
     },
     "output_type": "display_data"
    }
   ],
   "source": [
    "#Función de visualización de spines\n",
    "def plot_spins():\n",
    "    pyplot.figure()\n",
    "    colors = {1: \"red\", -1: \"blue\"}\n",
    "    for site, spin in spins.items():\n",
    "        x, y = site\n",
    "        pyplot.quiver(x, y, 0, spin, pivot=\"middle\", color=colors[spin])\n",
    "    pyplot.xticks(range(-1,length+1))\n",
    "    pyplot.yticks(range(-1,length+1))\n",
    "    pyplot.gca().set_aspect(\"equal\")\n",
    "    pyplot.grid()\n",
    "    pyplot.show\n",
    "#Ejecución de la función de visualización de spines\n",
    "plot_spins()"
   ]
  },
  {
   "cell_type": "code",
   "execution_count": 24,
   "id": "worse-india",
   "metadata": {},
   "outputs": [],
   "source": [
    "#Asignación de vecinos\n",
    "nbhs = defaultdict(list)\n",
    "for site in spins:\n",
    "    x, y = site\n",
    "    if x + 1 < length:\n",
    "        nbhs[site].append(((x + 1) % length, y))\n",
    "    if x - 1 >= 0:\n",
    "        nbhs[site].append(((x - 1) % length, y))\n",
    "    if y + 1 < length:\n",
    "        nbhs[site].append((x, (y + 1) % length))\n",
    "    if y - 1 >= 0:\n",
    "        nbhs[site].append((x, (y - 1) % length))"
   ]
  },
  {
   "cell_type": "code",
   "execution_count": 10,
   "id": "tutorial-devil",
   "metadata": {},
   "outputs": [
    {
     "name": "stdout",
     "output_type": "stream",
     "text": [
      "magnetization =  0.0\n"
     ]
    },
    {
     "data": {
      "image/png": "[encoded data removed]",
      "text/plain": [
       "<Figure size 432x288 with 1 Axes>"
      ]
     },
     "metadata": {
      "needs_background": "light"
     },
     "output_type": "display_data"
    }
   ],
   "source": [
    "#Función de cálculo de energía local\n",
    "def energy_site(site):\n",
    "    energy = 0.0\n",
    "    for nbh in nbhs[site]:\n",
    "        energy += spins[site] * spins[nbh]\n",
    "    return -J * energy\n",
    "\n",
    "#Función de cálculo de energía total\n",
    "def total_energy():\n",
    "    energy = 0.0\n",
    "    for site in sites:\n",
    "        energy += energy_site(site)\n",
    "    return 0.5 * energy\n",
    "\n",
    "#Cálculo de la magnetización\n",
    "def magnetization():\n",
    "    mag = 0.0\n",
    "    for spin in spins.values():\n",
    "        mag += spin\n",
    "    return mag\n",
    "\n",
    "#Ejecución de las funciones en el estado 0\n",
    "\n",
    "plot_spins()\n",
    "print(\"magnetization = \", magnetization())"
   ]
  },
  {
   "cell_type": "code",
   "execution_count": 25,
   "id": "micro-scout",
   "metadata": {},
   "outputs": [],
   "source": [
    "#Implementación del algoritmo \"metrópolis\"\n",
    "def metropolis(site, T):\n",
    "    oldSpin = spins[site]\n",
    "    oldEnergy = energy_site(site)\n",
    "    spins[site] *= -1\n",
    "    newEnergy = energy_site(site)\n",
    "    deltaE = newEnergy - oldEnergy\n",
    "    if deltaE <= 0:\n",
    "        pass\n",
    "    else:\n",
    "        if numpy.random.uniform(0, 1) <= numpy.exp(-deltaE/(kB*T)):\n",
    "            pass\n",
    "        else:\n",
    "            spins[site] *= -1"
   ]
  },
  {
   "cell_type": "code",
   "execution_count": 26,
   "id": "seeing-satin",
   "metadata": {},
   "outputs": [],
   "source": [
    "#Implementación del algoritmo \"montecarlo\"\n",
    "def monte_carlo_step(T):\n",
    "    for i in range(len(sites)):\n",
    "        int_rand_site = numpy.random.randint(0, len(sites))\n",
    "        rand_site = sites[int_rand_site]\n",
    "        metropolis(rand_site, T)"
   ]
  },
  {
   "cell_type": "code",
   "execution_count": 27,
   "id": "foreign-nicholas",
   "metadata": {},
   "outputs": [],
   "source": [
    "#Definir los parámetros para la simulación\n",
    "amount_mcs = 10000\n",
    "T_high = 5.0\n",
    "T_low = 0.01\n",
    "step = -0.1\n"
   ]
  },
  {
   "cell_type": "code",
   "execution_count": 28,
   "id": "collect-wages",
   "metadata": {},
   "outputs": [
    {
     "ename": "KeyboardInterrupt",
     "evalue": "",
     "output_type": "error",
     "traceback": [
      "\u001b[1;31m---------------------------------------------------------------------------\u001b[0m",
      "\u001b[1;31mKeyboardInterrupt\u001b[0m                         Traceback (most recent call last)",
      "\u001b[1;32m<ipython-input-28-704600012df9>\u001b[0m in \u001b[0;36m<module>\u001b[1;34m\u001b[0m\n\u001b[0;32m      7\u001b[0m \u001b[1;32mfor\u001b[0m \u001b[0mind_T\u001b[0m\u001b[1;33m,\u001b[0m \u001b[0mT\u001b[0m \u001b[1;32min\u001b[0m \u001b[0menumerate\u001b[0m\u001b[1;33m(\u001b[0m\u001b[0mtemps\u001b[0m\u001b[1;33m)\u001b[0m\u001b[1;33m:\u001b[0m\u001b[1;33m\u001b[0m\u001b[1;33m\u001b[0m\u001b[0m\n\u001b[0;32m      8\u001b[0m     \u001b[1;32mfor\u001b[0m \u001b[0mi\u001b[0m \u001b[1;32min\u001b[0m \u001b[0mrange\u001b[0m\u001b[1;33m(\u001b[0m\u001b[0mamount_mcs\u001b[0m\u001b[1;33m)\u001b[0m\u001b[1;33m:\u001b[0m\u001b[1;33m\u001b[0m\u001b[1;33m\u001b[0m\u001b[0m\n\u001b[1;32m----> 9\u001b[1;33m         \u001b[0mmonte_carlo_step\u001b[0m\u001b[1;33m(\u001b[0m\u001b[0mT\u001b[0m\u001b[1;33m)\u001b[0m\u001b[1;33m\u001b[0m\u001b[1;33m\u001b[0m\u001b[0m\n\u001b[0m\u001b[0;32m     10\u001b[0m         \u001b[0menergies\u001b[0m\u001b[1;33m[\u001b[0m\u001b[0mind_T\u001b[0m\u001b[1;33m,\u001b[0m \u001b[0mi\u001b[0m\u001b[1;33m]\u001b[0m \u001b[1;33m=\u001b[0m \u001b[0mtotal_energy\u001b[0m\u001b[1;33m(\u001b[0m\u001b[1;33m)\u001b[0m\u001b[1;33m\u001b[0m\u001b[1;33m\u001b[0m\u001b[0m\n\u001b[0;32m     11\u001b[0m         \u001b[0mmagnetizations\u001b[0m\u001b[1;33m[\u001b[0m\u001b[0mind_T\u001b[0m\u001b[1;33m,\u001b[0m \u001b[0mi\u001b[0m\u001b[1;33m]\u001b[0m \u001b[1;33m=\u001b[0m \u001b[0mmagnetization\u001b[0m\u001b[1;33m(\u001b[0m\u001b[1;33m)\u001b[0m\u001b[1;33m\u001b[0m\u001b[1;33m\u001b[0m\u001b[0m\n",
      "\u001b[1;32m<ipython-input-26-3daca67866d0>\u001b[0m in \u001b[0;36mmonte_carlo_step\u001b[1;34m(T)\u001b[0m\n\u001b[0;32m      4\u001b[0m         \u001b[0mint_rand_site\u001b[0m \u001b[1;33m=\u001b[0m \u001b[0mnumpy\u001b[0m\u001b[1;33m.\u001b[0m\u001b[0mrandom\u001b[0m\u001b[1;33m.\u001b[0m\u001b[0mrandint\u001b[0m\u001b[1;33m(\u001b[0m\u001b[1;36m0\u001b[0m\u001b[1;33m,\u001b[0m \u001b[0mlen\u001b[0m\u001b[1;33m(\u001b[0m\u001b[0msites\u001b[0m\u001b[1;33m)\u001b[0m\u001b[1;33m)\u001b[0m\u001b[1;33m\u001b[0m\u001b[1;33m\u001b[0m\u001b[0m\n\u001b[0;32m      5\u001b[0m         \u001b[0mrand_site\u001b[0m \u001b[1;33m=\u001b[0m \u001b[0msites\u001b[0m\u001b[1;33m[\u001b[0m\u001b[0mint_rand_site\u001b[0m\u001b[1;33m]\u001b[0m\u001b[1;33m\u001b[0m\u001b[1;33m\u001b[0m\u001b[0m\n\u001b[1;32m----> 6\u001b[1;33m         \u001b[0mmetropolis\u001b[0m\u001b[1;33m(\u001b[0m\u001b[0mrand_site\u001b[0m\u001b[1;33m,\u001b[0m \u001b[0mT\u001b[0m\u001b[1;33m)\u001b[0m\u001b[1;33m\u001b[0m\u001b[1;33m\u001b[0m\u001b[0m\n\u001b[0m",
      "\u001b[1;32m<ipython-input-25-789803f08f89>\u001b[0m in \u001b[0;36mmetropolis\u001b[1;34m(site, T)\u001b[0m\n\u001b[0;32m      9\u001b[0m         \u001b[1;32mpass\u001b[0m\u001b[1;33m\u001b[0m\u001b[1;33m\u001b[0m\u001b[0m\n\u001b[0;32m     10\u001b[0m     \u001b[1;32melse\u001b[0m\u001b[1;33m:\u001b[0m\u001b[1;33m\u001b[0m\u001b[1;33m\u001b[0m\u001b[0m\n\u001b[1;32m---> 11\u001b[1;33m         \u001b[1;32mif\u001b[0m \u001b[0mnumpy\u001b[0m\u001b[1;33m.\u001b[0m\u001b[0mrandom\u001b[0m\u001b[1;33m.\u001b[0m\u001b[0muniform\u001b[0m\u001b[1;33m(\u001b[0m\u001b[1;36m0\u001b[0m\u001b[1;33m,\u001b[0m \u001b[1;36m1\u001b[0m\u001b[1;33m)\u001b[0m \u001b[1;33m<=\u001b[0m \u001b[0mnumpy\u001b[0m\u001b[1;33m.\u001b[0m\u001b[0mexp\u001b[0m\u001b[1;33m(\u001b[0m\u001b[1;33m-\u001b[0m\u001b[0mdeltaE\u001b[0m\u001b[1;33m/\u001b[0m\u001b[1;33m(\u001b[0m\u001b[0mkB\u001b[0m\u001b[1;33m*\u001b[0m\u001b[0mT\u001b[0m\u001b[1;33m)\u001b[0m\u001b[1;33m)\u001b[0m\u001b[1;33m:\u001b[0m\u001b[1;33m\u001b[0m\u001b[1;33m\u001b[0m\u001b[0m\n\u001b[0m\u001b[0;32m     12\u001b[0m             \u001b[1;32mpass\u001b[0m\u001b[1;33m\u001b[0m\u001b[1;33m\u001b[0m\u001b[0m\n\u001b[0;32m     13\u001b[0m         \u001b[1;32melse\u001b[0m\u001b[1;33m:\u001b[0m\u001b[1;33m\u001b[0m\u001b[1;33m\u001b[0m\u001b[0m\n",
      "\u001b[1;31mKeyboardInterrupt\u001b[0m: "
     ]
    }
   ],
   "source": [
    "#Ciclo de temperatura\n",
    "#%%time\n",
    "temps = numpy.arange(T_high, T_low, step)\n",
    "energies = numpy.zeros(shape=(len(temps), amount_mcs))\n",
    "magnetizations = numpy.zeros(shape=(len(temps), amount_mcs))\n",
    "random_configuration()\n",
    "for ind_T, T in enumerate(temps):\n",
    "    for i in range(amount_mcs):\n",
    "        monte_carlo_step(T)\n",
    "        energies[ind_T, i] = total_energy()\n",
    "        magnetizations[ind_T, i] = magnetization()"
   ]
  },
  {
   "cell_type": "code",
   "execution_count": null,
   "id": "qualified-peace",
   "metadata": {},
   "outputs": [],
   "source": [
    "#Observar el estado final a T=0,01\n",
    "plot_spins_spinst_spins()"
   ]
  },
  {
   "cell_type": "code",
   "execution_count": null,
   "id": "excited-amount",
   "metadata": {},
   "outputs": [],
   "source": [
    "#Graficos del sistema\n",
    "#Cálculos de los promedios\n",
    "tau = amount_mcs // 2\n",
    "energy_mean = numpy.mean(energies[:, tau:], axis=1)\n",
    "magnetization_mean = abs(numpy.mean(magnetizations[:, tau:], axis=1))"
   ]
  },
  {
   "cell_type": "code",
   "execution_count": null,
   "id": "configured-telescope",
   "metadata": {},
   "outputs": [],
   "source": [
    "#Gráficar la energía total y la magnetización en función de la temperatura\n",
    "pyplot.figure()\n",
    "pyplot.plot(temps, energy_mean, label=\"Energy\")\n",
    "pyplot.legend()\n",
    "pyplot.xlabel(r\"$T$\")\n",
    "pyplot.ylabel(r\"$\\left<E\\right>$\")\n",
    "pyplot.grid()\n",
    "pyplot.show()\n",
    "\n",
    "pyplot.figure()\n",
    "pyplot.plot(temps, magnetization_mean, label=\"Magnetization\")\n",
    "pyplot.legend()\n",
    "pyplot.xlabel(r\"$T$\")\n",
    "pyplot.ylabel(r\"$\\left<M\\right>$\")\n",
    "pyplot.grid()\n",
    "pyplot.show()"
   ]
  },
  {
   "cell_type": "code",
   "execution_count": null,
   "id": "needed-emerald",
   "metadata": {},
   "outputs": [],
   "source": [
    "#Cálculo de la susceptibilidad magnética\n",
    "magnetization_std = numpy.std(numpy.abs(magnetizations[:, tau:]), axis=1)\n",
    "susceptibility = magnetization_std ** 2 / (kB * temps)\n",
    "\n",
    "pyplot.figure()\n",
    "pyplot.plot(temps, susceptibility, label=\"Susceptibility\")\n",
    "pyplot.legend()\n",
    "pyplot.xlabel(r\"$T$\")\n",
    "pyplot.ylabel(r\"$\\chi$\")\n",
    "pyplot.grid()\n",
    "pyplot.show()"
   ]
  },
  {
   "cell_type": "code",
   "execution_count": null,
   "id": "interior-corps",
   "metadata": {},
   "outputs": [],
   "source": [
    "#Cállculo del calor específico\n",
    "energy_std = numpy.std(energies[:, tau:], axis=1)\n",
    "specific_heat = energy_std ** 2 / (kB * temps * temps)\n",
    "\n",
    "pyplot.figure()\n",
    "pyplot.plot(temps, specific_heat, label=\"Specific heat\")\n",
    "pyplot.legend()\n",
    "pyplot.xlabel(r\"$T$\")\n",
    "pyplot.ylabel(r\"$C_v$\")\n",
    "pyplot.grid()\n",
    "pyplot.show()"
   ]
  }
 ],
 "metadata": {
  "kernelspec": {
   "display_name": "Python 3",
   "language": "python",
   "name": "python3"
  },
  "language_info": {
   "codemirror_mode": {
    "name": "ipython",
    "version": 3
   },
   "file_extension": ".py",
   "mimetype": "text/x-python",
   "name": "python",
   "nbconvert_exporter": "python",
   "pygments_lexer": "ipython3",
   "version": "3.7.9"
  }
 },
 "nbformat": 4,
 "nbformat_minor": 5
}
